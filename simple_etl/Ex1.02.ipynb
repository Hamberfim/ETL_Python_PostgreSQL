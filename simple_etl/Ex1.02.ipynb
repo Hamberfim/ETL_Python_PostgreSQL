{
 "cells": [
  {
   "cell_type": "code",
   "execution_count": 1,
   "metadata": {},
   "outputs": [
    {
     "name": "stdout",
     "output_type": "stream",
     "text": [
      "['218-68-9955', '165-73-3124', '432-47-4043', '563-93-1393', '153-93-3401', '670-09-7369', '123-05-9652', '812-13-2476', '726-13-1007', '825-05-4836']\n"
     ]
    }
   ],
   "source": [
    "import pandas as pd\n",
    "ssn = list(pd.read_csv(\"datasets/ssn.csv\"))\n",
    "print(ssn)"
   ]
  },
  {
   "cell_type": "code",
   "execution_count": 2,
   "metadata": {},
   "outputs": [
    {
     "name": "stdout",
     "output_type": "stream",
     "text": [
      "['218-68-9955', '165-73-3124', '432-47-4043', '563-93-1393', '153-93-3401', '670-09-7369', '123-05-9652', '812-13-2476', '726-13-1007', '825-05-4836']\n"
     ]
    }
   ],
   "source": [
    "# new empty list declared\n",
    "ssn_2 = []\n",
    "# append items from ssn to ssn_2\n",
    "for x in ssn:\n",
    "    ssn_2.append(x)\n",
    "print(ssn_2)"
   ]
  },
  {
   "cell_type": "code",
   "execution_count": 5,
   "metadata": {},
   "outputs": [
    {
     "name": "stdout",
     "output_type": "stream",
     "text": [
      "['Soc #: 218-68-9955', 'Soc #: 165-73-3124', 'Soc #: 432-47-4043', 'Soc #: 563-93-1393', 'Soc #: 153-93-3401', 'Soc #: 670-09-7369', 'Soc #: 123-05-9652', 'Soc #: 812-13-2476', 'Soc #: 726-13-1007', 'Soc #: 825-05-4836']\n"
     ]
    }
   ],
   "source": [
    "# list comprehension - new list from items in ssn_2 with a concatenation of \"Soc #:\"\n",
    "ssn_3 = [\"Soc #: \" + x for x in ssn_2]\n",
    "print(ssn_3)"
   ]
  },
  {
   "cell_type": "code",
   "execution_count": 6,
   "metadata": {},
   "outputs": [
    {
     "name": "stdout",
     "output_type": "stream",
     "text": [
      "Soc #: 218-68-9955\n",
      "Soc #: 165-73-3124\n",
      "Soc #: 432-47-4043\n",
      "Soc #: 563-93-1393\n",
      "Soc #: 153-93-3401\n",
      "Soc #: 670-09-7369\n",
      "Soc #: 123-05-9652\n",
      "Soc #: 812-13-2476\n",
      "Soc #: 726-13-1007\n",
      "Soc #: 825-05-4836\n"
     ]
    }
   ],
   "source": [
    "# while loop to interate over a list\n",
    "i = 0\n",
    "while i < len(ssn_3):\n",
    "    print(ssn_3[i])\n",
    "    i += 1\n"
   ]
  },
  {
   "cell_type": "code",
   "execution_count": 7,
   "metadata": {},
   "outputs": [
    {
     "name": "stdout",
     "output_type": "stream",
     "text": [
      "['Soc #: 218-68-9955', 'Soc #: 563-93-1393', 'Soc #: 153-93-3401', 'Soc #: 670-09-7369', 'Soc #: 123-05-9652']\n"
     ]
    }
   ],
   "source": [
    "# Search all the social security numbers in a list for the number 9 and add the ssn number to a new list\n",
    "soc_num_with_nine = [x for x in ssn_3 if \"9\" in x]\n",
    "print(soc_num_with_nine)"
   ]
  },
  {
   "cell_type": "code",
   "execution_count": 8,
   "metadata": {},
   "outputs": [
    {
     "name": "stdout",
     "output_type": "stream",
     "text": [
      "['102-90-0314', '247-17-2338', '318-22-2760', 'Soc #: 218-68-9955', 'Soc #: 563-93-1393', 'Soc #: 153-93-3401', 'Soc #: 670-09-7369', 'Soc #: 123-05-9652']\n"
     ]
    }
   ],
   "source": [
    "# add two list together\n",
    "ssn_4 = [\"102-90-0314\" , \"247-17-2338\" , \"318-22-2760\"]  # added to beginning\n",
    "ssn_5 = ssn_4 + soc_num_with_nine\n",
    "print(ssn_5)"
   ]
  },
  {
   "cell_type": "code",
   "execution_count": 9,
   "metadata": {},
   "outputs": [
    {
     "name": "stdout",
     "output_type": "stream",
     "text": [
      "['102-90-0314', '247-17-2338', '318-22-2760', 'Soc #: 218-68-9955', 'Soc #: 563-93-1393', 'Soc #: 153-93-3401', 'Soc #: 670-09-7369', 'Soc #: 123-05-9652', '122-91-9314', '222-27-4238', '542-30-0740']\n"
     ]
    }
   ],
   "source": [
    "# extend a list with anohter list\n",
    "ssn_6 = [\"122-91-9314\" , \"222-27-4238\" , \"542-30-0740\"]  # added to the end\n",
    "ssn_5.extend(ssn_6)  # added to the end\n",
    "print(ssn_5)"
   ]
  },
  {
   "cell_type": "code",
   "execution_count": 21,
   "metadata": {},
   "outputs": [
    {
     "name": "stdout",
     "output_type": "stream",
     "text": [
      "=====Set 1====\n",
      "A: 000-00-0001\n",
      "B: 000-00-0002\n",
      "C: 000-00-0003\n",
      "=====Set 2====\n",
      "A: 000-00-0001\n",
      "B: 000-00-0002\n",
      "C: 000-00-0003\n",
      "=====Set 3====\n",
      "A: 000-00-0001\n",
      "B: 000-00-0002\n",
      "C: 000-00-0003\n"
     ]
    }
   ],
   "source": [
    "# nested list loop - for every item in outer loop, loop thru inner loop\n",
    "list_title_sets = [\"Set 1\", \"Set 2\", \"Set 3\"]  # outer loop items\n",
    "ssn_7 = [\"000-00-0001\" , \"000-00-0002\" , \"000-00-0003\"]  # inner loop items\n",
    "for x in list_title_sets:\n",
    "    print(\"=====\" + x + \"====\")  # part of outer loop\n",
    "    \n",
    "    # items for inner loop\n",
    "    alpha_place = [\"A\", \"B\", \"C\"]\n",
    "    alpha_count = 0\n",
    "    for y in ssn_7:\n",
    "        print(str(alpha_place[alpha_count]) + ': ' + str(y))  # part of nested (inner) loop\n",
    "        alpha_count +=1\n"
   ]
  }
 ],
 "metadata": {
  "kernelspec": {
   "display_name": "Python 3",
   "language": "python",
   "name": "python3"
  },
  "language_info": {
   "codemirror_mode": {
    "name": "ipython",
    "version": 3
   },
   "file_extension": ".py",
   "mimetype": "text/x-python",
   "name": "python",
   "nbconvert_exporter": "python",
   "pygments_lexer": "ipython3",
   "version": "3.7.6"
  }
 },
 "nbformat": 4,
 "nbformat_minor": 4
}
