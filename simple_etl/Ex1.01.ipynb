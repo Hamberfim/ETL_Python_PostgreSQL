{
 "cells": [
  {
   "cell_type": "code",
   "execution_count": 1,
   "metadata": {},
   "outputs": [
    {
     "name": "stdout",
     "output_type": "stream",
     "text": [
      "['218-68-9955', '165-73-3124', '432-47-4043', '563-93-1393', '153-93-3401', '670-09-7369', '123-05-9652', '812-13-2476', '726-13-1007', '825-05-4836']\n"
     ]
    }
   ],
   "source": [
    "import pandas as pd\n",
    "ssn = list(pd.read_csv(\"datasets/ssn.csv\"))\n",
    "print(ssn)"
   ]
  },
  {
   "cell_type": "code",
   "execution_count": 5,
   "metadata": {},
   "outputs": [
    {
     "name": "stdout",
     "output_type": "stream",
     "text": [
      "218-68-9955\n",
      "563-93-1393\n"
     ]
    }
   ],
   "source": [
    "print(ssn[0])\n",
    "print(ssn[3])"
   ]
  },
  {
   "cell_type": "code",
   "execution_count": 14,
   "metadata": {},
   "outputs": [
    {
     "name": "stdout",
     "output_type": "stream",
     "text": [
      "The length/number of items in the list is 10\n",
      "The last items in the list is 825-05-4836\n"
     ]
    }
   ],
   "source": [
    "print(\"The length/number of items in the list is \" + str(len(ssn)))\n",
    "print(\"The last items in the list is \" + str(ssn[len(ssn) - 1]))"
   ]
  },
  {
   "cell_type": "code",
   "execution_count": 19,
   "metadata": {},
   "outputs": [
    {
     "data": {
      "text/plain": [
       "['218-68-9955', '165-73-3124', '432-47-4043', '563-93-1393']"
      ]
     },
     "execution_count": 19,
     "metadata": {},
     "output_type": "execute_result"
    }
   ],
   "source": [
    "# slice - index 0(inclusive) - 4(exclusive)\n",
    "ssn[0:4]"
   ]
  },
  {
   "cell_type": "code",
   "execution_count": 20,
   "metadata": {},
   "outputs": [
    {
     "data": {
      "text/plain": [
       "['726-13-1007', '825-05-4836']"
      ]
     },
     "execution_count": 20,
     "metadata": {},
     "output_type": "execute_result"
    }
   ],
   "source": [
    "# slice - the last two ssn numbers\n",
    "ssn[-2:]"
   ]
  },
  {
   "cell_type": "code",
   "execution_count": 21,
   "metadata": {},
   "outputs": [
    {
     "data": {
      "text/plain": [
       "['218-68-9955',\n",
       " '165-73-3124',\n",
       " '432-47-4043',\n",
       " '563-93-1393',\n",
       " '153-93-3401',\n",
       " '670-09-7369',\n",
       " '123-05-9652',\n",
       " '812-13-2476']"
      ]
     },
     "execution_count": 21,
     "metadata": {},
     "output_type": "execute_result"
    }
   ],
   "source": [
    "# slice - all but the last two ssn numbers\n",
    "ssn[:-2]"
   ]
  },
  {
   "cell_type": "code",
   "execution_count": 22,
   "metadata": {},
   "outputs": [
    {
     "data": {
      "text/plain": [
       "['825-05-4836',\n",
       " '726-13-1007',\n",
       " '812-13-2476',\n",
       " '123-05-9652',\n",
       " '670-09-7369',\n",
       " '153-93-3401',\n",
       " '563-93-1393',\n",
       " '432-47-4043',\n",
       " '165-73-3124',\n",
       " '218-68-9955']"
      ]
     },
     "execution_count": 22,
     "metadata": {},
     "output_type": "execute_result"
    }
   ],
   "source": [
    "# reverse the list order\n",
    "ssn[-1::-1]"
   ]
  },
  {
   "cell_type": "code",
   "execution_count": null,
   "metadata": {},
   "outputs": [],
   "source": []
  }
 ],
 "metadata": {
  "kernelspec": {
   "display_name": "Python 3",
   "language": "python",
   "name": "python3"
  },
  "language_info": {
   "codemirror_mode": {
    "name": "ipython",
    "version": 3
   },
   "file_extension": ".py",
   "mimetype": "text/x-python",
   "name": "python",
   "nbconvert_exporter": "python",
   "pygments_lexer": "ipython3",
   "version": "3.7.6"
  }
 },
 "nbformat": 4,
 "nbformat_minor": 4
}
